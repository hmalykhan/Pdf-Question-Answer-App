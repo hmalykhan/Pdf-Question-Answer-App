{
 "cells": [
  {
   "cell_type": "code",
   "execution_count": 22,
   "metadata": {},
   "outputs": [
    {
     "name": "stdout",
     "output_type": "stream",
     "text": [
      "Unexpected exception formatting exception. Falling back to standard exception\n"
     ]
    },
    {
     "name": "stderr",
     "output_type": "stream",
     "text": [
      "Traceback (most recent call last):\n",
      "  File \"/home/hmalykhan/Desktop/RAG1/venv/lib/python3.10/site-packages/IPython/core/interactiveshell.py\", line 3130, in _run_cell\n",
      "    result = runner(coro)\n",
      "  File \"/home/hmalykhan/Desktop/RAG1/venv/lib/python3.10/site-packages/IPython/core/async_helpers.py\", line 128, in _pseudo_sync_runner\n",
      "    coro.send(None)\n",
      "  File \"/home/hmalykhan/Desktop/RAG1/venv/lib/python3.10/site-packages/IPython/core/interactiveshell.py\", line 3301, in run_cell_async\n",
      "    cell_name = compiler.cache(cell, self.execution_count, raw_code=raw_cell)\n",
      "  File \"/home/hmalykhan/Desktop/RAG1/venv/lib/python3.10/site-packages/IPython/core/compilerop.py\", line 155, in cache\n",
      "    name = self.get_code_name(raw_code, transformed_code, number)\n",
      "  File \"/home/hmalykhan/Desktop/RAG1/venv/lib/python3.10/site-packages/ipykernel/compiler.py\", line 105, in get_code_name\n",
      "    return get_file_name(raw_code)\n",
      "  File \"/home/hmalykhan/Desktop/RAG1/venv/lib/python3.10/site-packages/ipykernel/compiler.py\", line 88, in get_file_name\n",
      "    cell_name = os.environ.get(\"IPYKERNEL_CELL_NAME\")\n",
      "AttributeError: 'NoneType' object has no attribute 'get'\n",
      "\n",
      "During handling of the above exception, another exception occurred:\n",
      "\n",
      "Traceback (most recent call last):\n",
      "  File \"/home/hmalykhan/Desktop/RAG1/venv/lib/python3.10/site-packages/IPython/core/interactiveshell.py\", line 2168, in showtraceback\n",
      "    stb = self.InteractiveTB.structured_traceback(\n",
      "  File \"/home/hmalykhan/Desktop/RAG1/venv/lib/python3.10/site-packages/IPython/core/ultratb.py\", line 1454, in structured_traceback\n",
      "    return FormattedTB.structured_traceback(\n",
      "  File \"/home/hmalykhan/Desktop/RAG1/venv/lib/python3.10/site-packages/IPython/core/ultratb.py\", line 1345, in structured_traceback\n",
      "    return VerboseTB.structured_traceback(\n",
      "  File \"/home/hmalykhan/Desktop/RAG1/venv/lib/python3.10/site-packages/IPython/core/ultratb.py\", line 1192, in structured_traceback\n",
      "    formatted_exception = self.format_exception_as_a_whole(etype, evalue, etb, number_of_lines_of_context,\n",
      "  File \"/home/hmalykhan/Desktop/RAG1/venv/lib/python3.10/site-packages/IPython/core/ultratb.py\", line 1080, in format_exception_as_a_whole\n",
      "    head = self.prepare_header(str(etype), self.long_header)\n",
      "  File \"/home/hmalykhan/Desktop/RAG1/venv/lib/python3.10/site-packages/IPython/core/ultratb.py\", line 998, in prepare_header\n",
      "    width = min(75, get_terminal_size()[0])\n",
      "  File \"/home/hmalykhan/Desktop/RAG1/venv/lib/python3.10/site-packages/IPython/utils/terminal.py\", line 125, in get_terminal_size\n",
      "    return _get_terminal_size((defaultx, defaulty))\n",
      "  File \"/home/hmalykhan/Desktop/RAG1/venv/lib/python3.10/shutil.py\", line 1355, in get_terminal_size\n",
      "    columns = int(os.environ['COLUMNS'])\n",
      "TypeError: 'NoneType' object is not subscriptable\n"
     ]
    },
    {
     "name": "stdout",
     "output_type": "stream",
     "text": [
      "ERROR! Session/line number was not unique in database. History logging moved to new session 82\n"
     ]
    }
   ],
   "source": [
    "## Retrivel Augmented Generation\n",
    "import os\n",
    "from dotenv import load_dotenv\n",
    "load_dotenv()"
   ]
  },
  {
   "cell_type": "code",
   "execution_count": 22,
   "metadata": {},
   "outputs": [
    {
     "name": "stdout",
     "output_type": "stream",
     "text": [
      "Unexpected exception formatting exception. Falling back to standard exception\n"
     ]
    },
    {
     "name": "stderr",
     "output_type": "stream",
     "text": [
      "Traceback (most recent call last):\n",
      "  File \"/home/hmalykhan/Desktop/RAG1/venv/lib/python3.10/site-packages/IPython/core/interactiveshell.py\", line 3130, in _run_cell\n",
      "    result = runner(coro)\n",
      "  File \"/home/hmalykhan/Desktop/RAG1/venv/lib/python3.10/site-packages/IPython/core/async_helpers.py\", line 128, in _pseudo_sync_runner\n",
      "    coro.send(None)\n",
      "  File \"/home/hmalykhan/Desktop/RAG1/venv/lib/python3.10/site-packages/IPython/core/interactiveshell.py\", line 3301, in run_cell_async\n",
      "    cell_name = compiler.cache(cell, self.execution_count, raw_code=raw_cell)\n",
      "  File \"/home/hmalykhan/Desktop/RAG1/venv/lib/python3.10/site-packages/IPython/core/compilerop.py\", line 155, in cache\n",
      "    name = self.get_code_name(raw_code, transformed_code, number)\n",
      "  File \"/home/hmalykhan/Desktop/RAG1/venv/lib/python3.10/site-packages/ipykernel/compiler.py\", line 105, in get_code_name\n",
      "    return get_file_name(raw_code)\n",
      "  File \"/home/hmalykhan/Desktop/RAG1/venv/lib/python3.10/site-packages/ipykernel/compiler.py\", line 88, in get_file_name\n",
      "    cell_name = os.environ.get(\"IPYKERNEL_CELL_NAME\")\n",
      "AttributeError: 'NoneType' object has no attribute 'get'\n",
      "\n",
      "During handling of the above exception, another exception occurred:\n",
      "\n",
      "Traceback (most recent call last):\n",
      "  File \"/home/hmalykhan/Desktop/RAG1/venv/lib/python3.10/site-packages/IPython/core/interactiveshell.py\", line 2168, in showtraceback\n",
      "    stb = self.InteractiveTB.structured_traceback(\n",
      "  File \"/home/hmalykhan/Desktop/RAG1/venv/lib/python3.10/site-packages/IPython/core/ultratb.py\", line 1454, in structured_traceback\n",
      "    return FormattedTB.structured_traceback(\n",
      "  File \"/home/hmalykhan/Desktop/RAG1/venv/lib/python3.10/site-packages/IPython/core/ultratb.py\", line 1345, in structured_traceback\n",
      "    return VerboseTB.structured_traceback(\n",
      "  File \"/home/hmalykhan/Desktop/RAG1/venv/lib/python3.10/site-packages/IPython/core/ultratb.py\", line 1192, in structured_traceback\n",
      "    formatted_exception = self.format_exception_as_a_whole(etype, evalue, etb, number_of_lines_of_context,\n",
      "  File \"/home/hmalykhan/Desktop/RAG1/venv/lib/python3.10/site-packages/IPython/core/ultratb.py\", line 1080, in format_exception_as_a_whole\n",
      "    head = self.prepare_header(str(etype), self.long_header)\n",
      "  File \"/home/hmalykhan/Desktop/RAG1/venv/lib/python3.10/site-packages/IPython/core/ultratb.py\", line 998, in prepare_header\n",
      "    width = min(75, get_terminal_size()[0])\n",
      "  File \"/home/hmalykhan/Desktop/RAG1/venv/lib/python3.10/site-packages/IPython/utils/terminal.py\", line 125, in get_terminal_size\n",
      "    return _get_terminal_size((defaultx, defaulty))\n",
      "  File \"/home/hmalykhan/Desktop/RAG1/venv/lib/python3.10/shutil.py\", line 1355, in get_terminal_size\n",
      "    columns = int(os.environ['COLUMNS'])\n",
      "TypeError: 'NoneType' object is not subscriptable\n"
     ]
    },
    {
     "name": "stdout",
     "output_type": "stream",
     "text": [
      "ERROR! Session/line number was not unique in database. History logging moved to new session 83\n"
     ]
    }
   ],
   "source": [
    "os.getenv(\"OPENAI_API_KEY\")"
   ]
  },
  {
   "cell_type": "code",
   "execution_count": 4,
   "metadata": {},
   "outputs": [
    {
     "name": "stderr",
     "output_type": "stream",
     "text": [
      "[nltk_data] Downloading package stopwords to\n",
      "[nltk_data]     /home/hmalykhan/Desktop/RAG1/venv/lib/python3.10/site-\n",
      "[nltk_data]     packages/llama_index/legacy/_static/nltk_cache...\n",
      "[nltk_data]   Unzipping corpora/stopwords.zip.\n",
      "[nltk_data] Downloading package punkt to\n",
      "[nltk_data]     /home/hmalykhan/Desktop/RAG1/venv/lib/python3.10/site-\n",
      "[nltk_data]     packages/llama_index/legacy/_static/nltk_cache...\n",
      "[nltk_data]   Unzipping tokenizers/punkt.zip.\n",
      "Ignoring wrong pointing object 1098 0 (offset 0)\n",
      "Ignoring wrong pointing object 1178 0 (offset 0)\n",
      "Ignoring wrong pointing object 1239 0 (offset 0)\n",
      "Ignoring wrong pointing object 1289 0 (offset 0)\n",
      "Ignoring wrong pointing object 1303 0 (offset 0)\n",
      "Ignoring wrong pointing object 1317 0 (offset 0)\n",
      "Ignoring wrong pointing object 1330 0 (offset 0)\n"
     ]
    }
   ],
   "source": [
    "from llama_index.legacy import VectorStoreIndex,SimpleDirectoryReader\n",
    "documents=SimpleDirectoryReader(\"data\").load_data()"
   ]
  },
  {
   "cell_type": "code",
   "execution_count": 22,
   "metadata": {},
   "outputs": [
    {
     "name": "stdout",
     "output_type": "stream",
     "text": [
      "Unexpected exception formatting exception. Falling back to standard exception\n"
     ]
    },
    {
     "name": "stderr",
     "output_type": "stream",
     "text": [
      "Traceback (most recent call last):\n",
      "  File \"/home/hmalykhan/Desktop/RAG1/venv/lib/python3.10/site-packages/IPython/core/interactiveshell.py\", line 3130, in _run_cell\n",
      "    result = runner(coro)\n",
      "  File \"/home/hmalykhan/Desktop/RAG1/venv/lib/python3.10/site-packages/IPython/core/async_helpers.py\", line 128, in _pseudo_sync_runner\n",
      "    coro.send(None)\n",
      "  File \"/home/hmalykhan/Desktop/RAG1/venv/lib/python3.10/site-packages/IPython/core/interactiveshell.py\", line 3301, in run_cell_async\n",
      "    cell_name = compiler.cache(cell, self.execution_count, raw_code=raw_cell)\n",
      "  File \"/home/hmalykhan/Desktop/RAG1/venv/lib/python3.10/site-packages/IPython/core/compilerop.py\", line 155, in cache\n",
      "    name = self.get_code_name(raw_code, transformed_code, number)\n",
      "  File \"/home/hmalykhan/Desktop/RAG1/venv/lib/python3.10/site-packages/ipykernel/compiler.py\", line 105, in get_code_name\n",
      "    return get_file_name(raw_code)\n",
      "  File \"/home/hmalykhan/Desktop/RAG1/venv/lib/python3.10/site-packages/ipykernel/compiler.py\", line 88, in get_file_name\n",
      "    cell_name = os.environ.get(\"IPYKERNEL_CELL_NAME\")\n",
      "AttributeError: 'NoneType' object has no attribute 'get'\n",
      "\n",
      "During handling of the above exception, another exception occurred:\n",
      "\n",
      "Traceback (most recent call last):\n",
      "  File \"/home/hmalykhan/Desktop/RAG1/venv/lib/python3.10/site-packages/IPython/core/interactiveshell.py\", line 2168, in showtraceback\n",
      "    stb = self.InteractiveTB.structured_traceback(\n",
      "  File \"/home/hmalykhan/Desktop/RAG1/venv/lib/python3.10/site-packages/IPython/core/ultratb.py\", line 1454, in structured_traceback\n",
      "    return FormattedTB.structured_traceback(\n",
      "  File \"/home/hmalykhan/Desktop/RAG1/venv/lib/python3.10/site-packages/IPython/core/ultratb.py\", line 1345, in structured_traceback\n",
      "    return VerboseTB.structured_traceback(\n",
      "  File \"/home/hmalykhan/Desktop/RAG1/venv/lib/python3.10/site-packages/IPython/core/ultratb.py\", line 1192, in structured_traceback\n",
      "    formatted_exception = self.format_exception_as_a_whole(etype, evalue, etb, number_of_lines_of_context,\n",
      "  File \"/home/hmalykhan/Desktop/RAG1/venv/lib/python3.10/site-packages/IPython/core/ultratb.py\", line 1080, in format_exception_as_a_whole\n",
      "    head = self.prepare_header(str(etype), self.long_header)\n",
      "  File \"/home/hmalykhan/Desktop/RAG1/venv/lib/python3.10/site-packages/IPython/core/ultratb.py\", line 998, in prepare_header\n",
      "    width = min(75, get_terminal_size()[0])\n",
      "  File \"/home/hmalykhan/Desktop/RAG1/venv/lib/python3.10/site-packages/IPython/utils/terminal.py\", line 125, in get_terminal_size\n",
      "    return _get_terminal_size((defaultx, defaulty))\n",
      "  File \"/home/hmalykhan/Desktop/RAG1/venv/lib/python3.10/shutil.py\", line 1355, in get_terminal_size\n",
      "    columns = int(os.environ['COLUMNS'])\n",
      "TypeError: 'NoneType' object is not subscriptable\n"
     ]
    },
    {
     "name": "stdout",
     "output_type": "stream",
     "text": [
      "ERROR! Session/line number was not unique in database. History logging moved to new session 84\n"
     ]
    }
   ],
   "source": [
    "index=VectorStoreIndex.from_documents(documents,show_progress=True)"
   ]
  },
  {
   "cell_type": "code",
   "execution_count": null,
   "metadata": {},
   "outputs": [],
   "source": []
  }
 ],
 "metadata": {
  "kernelspec": {
   "display_name": "Python 3",
   "language": "python",
   "name": "python3"
  },
  "language_info": {
   "codemirror_mode": {
    "name": "ipython",
    "version": 3
   },
   "file_extension": ".py",
   "mimetype": "text/x-python",
   "name": "python",
   "nbconvert_exporter": "python",
   "pygments_lexer": "ipython3",
   "version": "3.10.0"
  }
 },
 "nbformat": 4,
 "nbformat_minor": 2
}
